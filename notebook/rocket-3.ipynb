{
 "cells": [
  {
   "cell_type": "code",
   "execution_count": 1,
   "metadata": {
    "collapsed": false
   },
   "outputs": [
    {
     "name": "stderr",
     "output_type": "stream",
     "text": [
      "/home/will/anaconda3/envs/teetool/lib/python2.7/site-packages/matplotlib/font_manager.py:273: UserWarning: Matplotlib is building the font cache using fc-list. This may take a moment.\n",
      "  warnings.warn('Matplotlib is building the font cache using fc-list. This may take a moment.')\n"
     ]
    }
   ],
   "source": [
    "import pandas as pd\n",
    "import numpy as np\n",
    "import matplotlib.pyplot as plt\n",
    "import teetool as tt\n",
    "import os"
   ]
  },
  {
   "cell_type": "code",
   "execution_count": 2,
   "metadata": {
    "collapsed": false
   },
   "outputs": [],
   "source": [
    "# temporary store data in pickle\n",
    "cluster_data_1 = pd.read_pickle(\"part1.pickle\");\n",
    "cluster_data_2 = pd.read_pickle(\"part2.pickle\");"
   ]
  },
  {
   "cell_type": "code",
   "execution_count": 3,
   "metadata": {
    "collapsed": false,
    "scrolled": true
   },
   "outputs": [
    {
     "name": "stdout",
     "output_type": "stream",
     "text": [
      "*** overview [Cambridge Rocketry Simulator] ***\n",
      "0 [no wind] [-] [-]\n",
      "1 [north wind] [-] [-]\n",
      "*** overview [Cambridge Rocketry Simulator] ***\n",
      "0 [no wind] [*] [-]\n",
      "1 [north wind] [*] [-]\n",
      "number of calculations: 8000\n",
      ".......\n",
      "number of calculations: 8000\n",
      "......\n",
      "*** overview [Cambridge Rocketry Simulator] ***\n",
      "0 [no wind] [*] [*]\n",
      "1 [north wind] [*] [*]\n"
     ]
    }
   ],
   "source": [
    "# settings\n",
    "#settings = {\"model_type\":\"EM\", \"ngaus\":100, \"basis_type\":\"bernstein\", \"nbasis\":5}\n",
    "settings = {\"model_type\":\"resampling\", \"ngaus\":100}\n",
    "\n",
    "# build world\n",
    "world_name = \"Cambridge Rocketry Simulator\"\n",
    "\n",
    "# build world\n",
    "new_world = tt.World(name=world_name, ndim=3)\n",
    "\n",
    "# modify default resolution\n",
    "new_world.setResolution(xstep=20, ystep=20, zstep=20)\n",
    "\n",
    "new_world.addCluster(cluster_data_1, \"no wind\")\n",
    "new_world.addCluster(cluster_data_2, \"north wind\")\n",
    "\n",
    "# overview\n",
    "new_world.overview()\n",
    "\n",
    "# model\n",
    "new_world.buildModel(0, settings)\n",
    "new_world.buildModel(1, settings)\n",
    "new_world.overview()  # overview\n",
    "\n",
    "# log\n",
    "new_world.buildLogProbality(0)\n",
    "new_world.buildLogProbality(1)\n",
    "new_world.overview()  # overview"
   ]
  },
  {
   "cell_type": "code",
   "execution_count": 4,
   "metadata": {
    "collapsed": true
   },
   "outputs": [],
   "source": [
    "# visuals by mayavi\n",
    "visual = tt.visual_3d.Visual_3d(new_world)\n",
    "# visualise trajectories\n",
    "visual.plotTrajectories([0, 1])\n",
    "# visualise intersection\n",
    "visual.plotDifference(0, 1)\n",
    "# visualise outline\n",
    "visual.plotOutline()\n",
    "# wait to close\n",
    "visual.show()"
   ]
  },
  {
   "cell_type": "code",
   "execution_count": null,
   "metadata": {
    "collapsed": false
   },
   "outputs": [],
   "source": [
    "# visuals by mayavi\n",
    "visual = tt.visual_3d.Visual_3d(new_world)\n",
    "# visualise trajectories\n",
    "visual.plotTrajectories([0, 1])\n",
    "# visualise outline\n",
    "visual.plotOutline()\n",
    "# wait to close\n",
    "visual.show()"
   ]
  },
  {
   "cell_type": "code",
   "execution_count": null,
   "metadata": {
    "collapsed": false
   },
   "outputs": [],
   "source": [
    "# visuals by mayavi\n",
    "visual = tt.visual_3d.Visual_3d(new_world)\n",
    "# visualise trajectories\n",
    "visual.plotTrajectories([0, 1])\n",
    "# visualise intersection\n",
    "visual.plotLogProbability([0, 1])\n",
    "# visualise outline\n",
    "visual.plotOutline()\n",
    "# wait to close\n",
    "visual.show()"
   ]
  },
  {
   "cell_type": "code",
   "execution_count": null,
   "metadata": {
    "collapsed": true
   },
   "outputs": [],
   "source": []
  }
 ],
 "metadata": {
  "kernelspec": {
   "display_name": "Python 2",
   "language": "python",
   "name": "python2"
  },
  "language_info": {
   "codemirror_mode": {
    "name": "ipython",
    "version": 2
   },
   "file_extension": ".py",
   "mimetype": "text/x-python",
   "name": "python",
   "nbconvert_exporter": "python",
   "pygments_lexer": "ipython2",
   "version": "2.7.12"
  }
 },
 "nbformat": 4,
 "nbformat_minor": 1
}
