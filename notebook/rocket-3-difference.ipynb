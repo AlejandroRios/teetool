{
 "cells": [
  {
   "cell_type": "code",
   "execution_count": 1,
   "metadata": {
    "collapsed": false
   },
   "outputs": [],
   "source": [
    "import pandas as pd\n",
    "import numpy as np\n",
    "import matplotlib.pyplot as plt\n",
    "import teetool as tt\n",
    "import os"
   ]
  },
  {
   "cell_type": "code",
   "execution_count": 2,
   "metadata": {
    "collapsed": false
   },
   "outputs": [],
   "source": [
    "# temporary store data in pickle\n",
    "cluster_data_1 = pd.read_pickle(\"rocket-north.pickle\");\n",
    "cluster_data_2 = pd.read_pickle(\"rocket-south.pickle\");"
   ]
  },
  {
   "cell_type": "code",
   "execution_count": 3,
   "metadata": {
    "collapsed": false,
    "scrolled": true
   },
   "outputs": [
    {
     "name": "stdout",
     "output_type": "stream",
     "text": [
      "*** overview [Cambridge Rocketry Simulator] ***\n",
      "0 [north wind] [-]\n",
      "1 [south wind] [-]\n",
      "*** overview [Cambridge Rocketry Simulator] ***\n",
      "0 [north wind] [*]\n",
      "1 [south wind] [*]\n"
     ]
    }
   ],
   "source": [
    "# settings\n",
    "#settings = {\"model_type\":\"EM\", \"ngaus\":100, \"basis_type\":\"bernstein\", \"nbasis\":5}\n",
    "settings = {\"model_type\":\"resampling\", \"ngaus\":100}\n",
    "\n",
    "# build world\n",
    "world_name = \"Cambridge Rocketry Simulator\"\n",
    "\n",
    "# build world\n",
    "new_world = tt.World(name=world_name, ndim=3, nres=100)\n",
    "\n",
    "new_world.addCluster(cluster_data_1, \"north wind\")\n",
    "new_world.addCluster(cluster_data_2, \"south wind\")\n",
    "\n",
    "# overview\n",
    "new_world.overview()\n",
    "\n",
    "# model\n",
    "new_world.buildModel([0, 1], settings)\n",
    "new_world.overview()  # overview"
   ]
  },
  {
   "cell_type": "code",
   "execution_count": 4,
   "metadata": {
    "collapsed": false
   },
   "outputs": [],
   "source": [
    "# visuals by mayavi\n",
    "visual = tt.visual_3d.Visual_3d(new_world)\n",
    "# visualise trajectories\n",
    "#visual.plotTrajectories()\n",
    "# visualise intersection\n",
    "visual.plotTubeDifference(0, 1, sdwidth=1, popacity=0.4)\n",
    "# visualise outline\n",
    "#visual.plotOutline()\n",
    "# wait to close\n",
    "visual.show()"
   ]
  }
 ],
 "metadata": {
  "kernelspec": {
   "display_name": "Python 2",
   "language": "python",
   "name": "python2"
  },
  "language_info": {
   "codemirror_mode": {
    "name": "ipython",
    "version": 2
   },
   "file_extension": ".py",
   "mimetype": "text/x-python",
   "name": "python",
   "nbconvert_exporter": "python",
   "pygments_lexer": "ipython2",
   "version": "2.7.12"
  }
 },
 "nbformat": 4,
 "nbformat_minor": 1
}
