{
 "cells": [
  {
   "cell_type": "code",
   "execution_count": 1,
   "metadata": {
    "collapsed": false
   },
   "outputs": [
    {
     "name": "stderr",
     "output_type": "stream",
     "text": [
      "/home/will/anaconda3/envs/teetool/lib/python2.7/site-packages/matplotlib/font_manager.py:273: UserWarning: Matplotlib is building the font cache using fc-list. This may take a moment.\n",
      "  warnings.warn('Matplotlib is building the font cache using fc-list. This may take a moment.')\n"
     ]
    }
   ],
   "source": [
    "import pandas as pd\n",
    "import numpy as np\n",
    "import teetool as tt\n",
    "import os"
   ]
  },
  {
   "cell_type": "code",
   "execution_count": 2,
   "metadata": {
    "collapsed": true
   },
   "outputs": [],
   "source": [
    "file_trajectories = \"app.csv\"\n",
    "#file_trajectories = \"dep.csv\""
   ]
  },
  {
   "cell_type": "code",
   "execution_count": 3,
   "metadata": {
    "collapsed": true
   },
   "outputs": [],
   "source": [
    "def getFile(fileName):\n",
    "    \"\"\"\n",
    "    downloads file if not yet done so\n",
    "    \"\"\"\n",
    "    \n",
    "    locale_path = \"data/{0}\".format(fileName)\n",
    "    online_path = \"https://www.southampton.ac.uk/~wje1n13/camrocsim/{0}\".format(fileName)\n",
    "    \n",
    "    if not os.path.isfile(locale_path):\n",
    "        !wget $online_path -O $locale_path"
   ]
  },
  {
   "cell_type": "code",
   "execution_count": 4,
   "metadata": {
    "collapsed": false
   },
   "outputs": [],
   "source": [
    "getFile(file_trajectories)"
   ]
  },
  {
   "cell_type": "code",
   "execution_count": 5,
   "metadata": {
    "collapsed": false,
    "scrolled": true
   },
   "outputs": [],
   "source": [
    "# read data\n",
    "df = pd.read_csv(\"data/{0}\".format(file_trajectories))\n",
    "\n",
    "# rename columns\n",
    "df.rename(columns={'EASTINGS_M': 'x [m]',\n",
    "                   'NORTHINGS_M': 'y [m]',\n",
    "                   'ALTITUDE_M': 'z [m]'}, inplace=True)\n",
    "\n",
    "\n",
    "\n"
   ]
  },
  {
   "cell_type": "code",
   "execution_count": 6,
   "metadata": {
    "collapsed": false
   },
   "outputs": [
    {
     "data": {
      "text/html": [
       "<div>\n",
       "<table border=\"1\" class=\"dataframe\">\n",
       "  <thead>\n",
       "    <tr style=\"text-align: right;\">\n",
       "      <th></th>\n",
       "      <th>CLUSTER_ID</th>\n",
       "      <th>TRAJECTORY_ID</th>\n",
       "      <th>y [m]</th>\n",
       "      <th>x [m]</th>\n",
       "      <th>z [m]</th>\n",
       "      <th>x [-]</th>\n",
       "      <th>y [-]</th>\n",
       "      <th>z [-]</th>\n",
       "    </tr>\n",
       "  </thead>\n",
       "  <tbody>\n",
       "    <tr>\n",
       "      <th>0</th>\n",
       "      <td>1</td>\n",
       "      <td>0</td>\n",
       "      <td>338415</td>\n",
       "      <td>268895</td>\n",
       "      <td>956</td>\n",
       "      <td>0.718833</td>\n",
       "      <td>0.986451</td>\n",
       "      <td>0.541792</td>\n",
       "    </tr>\n",
       "    <tr>\n",
       "      <th>1</th>\n",
       "      <td>1</td>\n",
       "      <td>0</td>\n",
       "      <td>337608</td>\n",
       "      <td>268677</td>\n",
       "      <td>947</td>\n",
       "      <td>0.716839</td>\n",
       "      <td>0.979087</td>\n",
       "      <td>0.536380</td>\n",
       "    </tr>\n",
       "    <tr>\n",
       "      <th>2</th>\n",
       "      <td>1</td>\n",
       "      <td>0</td>\n",
       "      <td>336794</td>\n",
       "      <td>268496</td>\n",
       "      <td>938</td>\n",
       "      <td>0.715182</td>\n",
       "      <td>0.971660</td>\n",
       "      <td>0.530968</td>\n",
       "    </tr>\n",
       "    <tr>\n",
       "      <th>3</th>\n",
       "      <td>1</td>\n",
       "      <td>0</td>\n",
       "      <td>335940</td>\n",
       "      <td>268481</td>\n",
       "      <td>929</td>\n",
       "      <td>0.715045</td>\n",
       "      <td>0.963868</td>\n",
       "      <td>0.525556</td>\n",
       "    </tr>\n",
       "    <tr>\n",
       "      <th>4</th>\n",
       "      <td>1</td>\n",
       "      <td>0</td>\n",
       "      <td>335177</td>\n",
       "      <td>268249</td>\n",
       "      <td>929</td>\n",
       "      <td>0.712922</td>\n",
       "      <td>0.956907</td>\n",
       "      <td>0.525556</td>\n",
       "    </tr>\n",
       "  </tbody>\n",
       "</table>\n",
       "</div>"
      ],
      "text/plain": [
       "   CLUSTER_ID  TRAJECTORY_ID   y [m]   x [m]  z [m]     x [-]     y [-]  \\\n",
       "0           1              0  338415  268895    956  0.718833  0.986451   \n",
       "1           1              0  337608  268677    947  0.716839  0.979087   \n",
       "2           1              0  336794  268496    938  0.715182  0.971660   \n",
       "3           1              0  335940  268481    929  0.715045  0.963868   \n",
       "4           1              0  335177  268249    929  0.712922  0.956907   \n",
       "\n",
       "      z [-]  \n",
       "0  0.541792  \n",
       "1  0.536380  \n",
       "2  0.530968  \n",
       "3  0.525556  \n",
       "4  0.525556  "
      ]
     },
     "execution_count": 6,
     "metadata": {},
     "output_type": "execute_result"
    }
   ],
   "source": [
    "# normalise dimensions? reasonable plotting\n",
    "\n",
    "# normalise x y z GLOBALLY (all trajectories)\n",
    "these_cells_input = [\"x [m]\", \"y [m]\", \"z [m]\"]\n",
    "these_cells_output = [\"x [-]\", \"y [-]\", \"z [-]\"]\n",
    "\n",
    "for (i, cell_input) in enumerate(these_cells_input):\n",
    "    cell_output = these_cells_output[i]\n",
    "    df.loc[:,cell_output] = (df[cell_input] - df[cell_input].min()) / ( df[cell_input].max() - df[cell_input].min() )\n",
    "\n",
    "\n",
    "df.head()"
   ]
  },
  {
   "cell_type": "code",
   "execution_count": 7,
   "metadata": {
    "collapsed": true
   },
   "outputs": [],
   "source": [
    "# flick data into arrays\n",
    "\n",
    "cluster_data_list = []\n",
    "\n",
    "for cluster_id in df.CLUSTER_ID.unique():\n",
    "    # pass all clusters\n",
    "    \n",
    "    dfc = df[df[\"CLUSTER_ID\"] == cluster_id]\n",
    "    \n",
    "    cluster_data = []\n",
    "\n",
    "    for trajectory_id in dfc.TRAJECTORY_ID.unique():\n",
    "        # pass all trajectories IN this cluster\n",
    "\n",
    "        # extract values\n",
    "        dft = dfc[dfc[\"TRAJECTORY_ID\"] == trajectory_id]\n",
    "\n",
    "        Yn = np.array([dft[\"x [-]\"].values, dft[\"y [-]\"].values, dft[\"z [-]\"].values]).transpose()\n",
    "        \n",
    "        (npoints, ndim) = Yn.shape\n",
    "        \n",
    "        # assume linearly distributed points (no indication otherwise)\n",
    "        xn = np.linspace(0, 1, npoints)\n",
    "\n",
    "        # add tuple to list\n",
    "        cluster_data.append((xn, Yn))\n",
    "    \n",
    "    cluster_data_list.append(cluster_data)"
   ]
  },
  {
   "cell_type": "code",
   "execution_count": 8,
   "metadata": {
    "collapsed": false,
    "scrolled": false
   },
   "outputs": [
    {
     "name": "stdout",
     "output_type": "stream",
     "text": [
      "*** overview [DFW] ***\n",
      "0 [c 0] [-] [-] [-]\n",
      "1 [c 1] [-] [-] [-]\n",
      "2 [c 2] [-] [-] [-]\n",
      "3 [c 3] [-] [-] [-]\n",
      "4 [c 4] [-] [-] [-]\n",
      "5 [c 5] [-] [-] [-]\n",
      "6 [c 6] [-] [-] [-]\n",
      "7 [c 7] [-] [-] [-]\n",
      "*** overview [DFW] ***\n",
      "0 [c 0] [*] [-] [-]\n",
      "1 [c 1] [*] [-] [-]\n",
      "2 [c 2] [*] [-] [-]\n",
      "3 [c 3] [-] [-] [-]\n",
      "4 [c 4] [-] [-] [-]\n",
      "5 [c 5] [-] [-] [-]\n",
      "6 [c 6] [-] [-] [-]\n",
      "7 [c 7] [-] [-] [-]\n",
      "*** overview [DFW] ***\n",
      "0 [c 0] [*] [-] [*]\n",
      "1 [c 1] [*] [-] [-]\n",
      "2 [c 2] [*] [-] [-]\n",
      "3 [c 3] [-] [-] [-]\n",
      "4 [c 4] [-] [-] [-]\n",
      "5 [c 5] [-] [-] [-]\n",
      "6 [c 6] [-] [-] [-]\n",
      "7 [c 7] [-] [-] [-]\n",
      "*** overview [DFW] ***\n",
      "0 [c 0] [*] [-] [*]\n",
      "1 [c 1] [*] [-] [*]\n",
      "2 [c 2] [*] [-] [-]\n",
      "3 [c 3] [-] [-] [-]\n",
      "4 [c 4] [-] [-] [-]\n",
      "5 [c 5] [-] [-] [-]\n",
      "6 [c 6] [-] [-] [-]\n",
      "7 [c 7] [-] [-] [-]\n",
      "*** overview [DFW] ***\n",
      "0 [c 0] [*] [-] [*]\n",
      "1 [c 1] [*] [-] [*]\n",
      "2 [c 2] [*] [-] [*]\n",
      "3 [c 3] [-] [-] [-]\n",
      "4 [c 4] [-] [-] [-]\n",
      "5 [c 5] [-] [-] [-]\n",
      "6 [c 6] [-] [-] [-]\n",
      "7 [c 7] [-] [-] [-]\n"
     ]
    }
   ],
   "source": [
    "# start modelling\n",
    "\n",
    "# build world\n",
    "new_world = tt.World(name=\"DFW\", ndim=3)\n",
    "\n",
    "# modify default resolution\n",
    "new_world.setResolution(xstep=30, ystep=30, zstep=30)\n",
    "\n",
    "for i, cluster_data in enumerate(cluster_data_list):\n",
    "    new_world.addCluster(cluster_data, \"c {0}\".format(i))\n",
    "\n",
    "# overview\n",
    "new_world.overview()\n",
    "\n",
    "# alter area (slightly larger)\n",
    "new_world.fraction_to_expand = 0.1\n",
    "\n",
    "# settings\n",
    "#settings = {\"model_type\":\"ML\", \"ngaus\":200, \"basis_type\":\"rbf\", \"nbasis\":15}\n",
    "settings = {\"model_type\":\"resampling\", \"ngaus\":100}\n",
    "\n",
    "these_clusters = range(3)\n",
    "\n",
    "# model\n",
    "#for i, cluster_data in enumerate(cluster_data_list):\n",
    "for i in these_clusters:\n",
    "    new_world.buildModel(i, settings)\n",
    "\n",
    "new_world.overview()  # overview\n",
    "\n",
    "# log\n",
    "#for i, cluster_data in enumerate(cluster_data_list):\n",
    "\"\"\"\n",
    "for i in these_clusters:\n",
    "    new_world.buildLogProbality(i)\n",
    "    new_world.overview()  # overview\n",
    "\"\"\"\n",
    "\n",
    "for i in these_clusters:\n",
    "    new_world.buildTube(i)\n",
    "    new_world.overview()  # overview"
   ]
  },
  {
   "cell_type": "code",
   "execution_count": 9,
   "metadata": {
    "collapsed": false
   },
   "outputs": [
    {
     "data": {
      "text/plain": [
       "'\\n# visuals by mayavi\\nvisual = tt.visual_3d.Visual_3d(new_world)\\n# visualise trajectories\\nvisual.plotTrajectories(these_clusters)\\n# visualise outline\\nvisual.plotOutline()\\n'"
      ]
     },
     "execution_count": 9,
     "metadata": {},
     "output_type": "execute_result"
    }
   ],
   "source": [
    "# plotting trajectories\n",
    "\n",
    "these_clusters = range(3)\n",
    "\n",
    "\"\"\"\n",
    "# visuals by mayavi\n",
    "visual = tt.visual_3d.Visual_3d(new_world)\n",
    "# visualise trajectories\n",
    "visual.plotTrajectories(these_clusters)\n",
    "# visualise outline\n",
    "visual.plotOutline()\n",
    "\"\"\""
   ]
  },
  {
   "cell_type": "code",
   "execution_count": 10,
   "metadata": {
    "collapsed": false
   },
   "outputs": [
    {
     "name": "stdout",
     "output_type": "stream",
     "text": [
      ".\n"
     ]
    },
    {
     "ename": "IndexError",
     "evalue": "index 1 is out of bounds for axis 1 with size 1",
     "output_type": "error",
     "traceback": [
      "\u001b[0;31m---------------------------------------------------------------------------\u001b[0m",
      "\u001b[0;31mIndexError\u001b[0m                                Traceback (most recent call last)",
      "\u001b[0;32m<ipython-input-10-1b1b59007742>\u001b[0m in \u001b[0;36m<module>\u001b[0;34m()\u001b[0m\n\u001b[1;32m      5\u001b[0m \u001b[0;31m# visualise iso surface\u001b[0m\u001b[0;34m\u001b[0m\u001b[0;34m\u001b[0m\u001b[0m\n\u001b[1;32m      6\u001b[0m \u001b[0;31m# visual.plotLogIsoSurface(these_clusters, pcontours=[.99])\u001b[0m\u001b[0;34m\u001b[0m\u001b[0;34m\u001b[0m\u001b[0m\n\u001b[0;32m----> 7\u001b[0;31m \u001b[0mvisual\u001b[0m\u001b[0;34m.\u001b[0m\u001b[0mplotTube\u001b[0m\u001b[0;34m(\u001b[0m\u001b[0mthese_clusters\u001b[0m\u001b[0;34m)\u001b[0m\u001b[0;34m\u001b[0m\u001b[0m\n\u001b[0m\u001b[1;32m      8\u001b[0m \u001b[0;31m# visualise outline\u001b[0m\u001b[0;34m\u001b[0m\u001b[0;34m\u001b[0m\u001b[0m\n\u001b[1;32m      9\u001b[0m \u001b[0mvisual\u001b[0m\u001b[0;34m.\u001b[0m\u001b[0mplotOutline\u001b[0m\u001b[0;34m(\u001b[0m\u001b[0;34m)\u001b[0m\u001b[0;34m\u001b[0m\u001b[0m\n",
      "\u001b[0;32m/home/will/anaconda3/envs/teetool/lib/python2.7/site-packages/teetool/visual_3d.pyc\u001b[0m in \u001b[0;36mplotTube\u001b[0;34m(self, list_clusters, popacity)\u001b[0m\n\u001b[1;32m    161\u001b[0m              \u001b[0;34m(\u001b[0m\u001b[0mY\u001b[0m\u001b[0;34m,\u001b[0m \u001b[0ms\u001b[0m\u001b[0;34m)\u001b[0m \u001b[0;34m=\u001b[0m \u001b[0mthis_cluster\u001b[0m\u001b[0;34m[\u001b[0m\u001b[0;34m\"tube\"\u001b[0m\u001b[0;34m]\u001b[0m\u001b[0;34m\u001b[0m\u001b[0m\n\u001b[1;32m    162\u001b[0m \u001b[0;34m\u001b[0m\u001b[0m\n\u001b[0;32m--> 163\u001b[0;31m              \u001b[0mss\u001b[0m \u001b[0;34m=\u001b[0m \u001b[0mself\u001b[0m\u001b[0;34m.\u001b[0m\u001b[0m_points2grid\u001b[0m\u001b[0;34m(\u001b[0m\u001b[0mY\u001b[0m\u001b[0;34m,\u001b[0m \u001b[0ms\u001b[0m\u001b[0;34m)\u001b[0m\u001b[0;34m\u001b[0m\u001b[0m\n\u001b[0m\u001b[1;32m    164\u001b[0m \u001b[0;34m\u001b[0m\u001b[0m\n\u001b[1;32m    165\u001b[0m              \u001b[0mss\u001b[0m \u001b[0;34m=\u001b[0m \u001b[0mnp\u001b[0m\u001b[0;34m.\u001b[0m\u001b[0msqueeze\u001b[0m\u001b[0;34m(\u001b[0m\u001b[0mss\u001b[0m\u001b[0;34m)\u001b[0m  \u001b[0;31m# TODO fix this at a previous step\u001b[0m\u001b[0;34m\u001b[0m\u001b[0m\n",
      "\u001b[0;32m/home/will/anaconda3/envs/teetool/lib/python2.7/site-packages/teetool/visual_3d.pyc\u001b[0m in \u001b[0;36m_points2grid\u001b[0;34m(self, Y, s)\u001b[0m\n\u001b[1;32m     67\u001b[0m \u001b[0;34m\u001b[0m\u001b[0m\n\u001b[1;32m     68\u001b[0m         \u001b[0;31m# extract results\u001b[0m\u001b[0;34m\u001b[0m\u001b[0;34m\u001b[0m\u001b[0m\n\u001b[0;32m---> 69\u001b[0;31m         \u001b[0mss\u001b[0m \u001b[0;34m=\u001b[0m \u001b[0mresults\u001b[0m\u001b[0;34m.\u001b[0m\u001b[0mget\u001b[0m\u001b[0;34m(\u001b[0m\u001b[0;34m)\u001b[0m\u001b[0;34m\u001b[0m\u001b[0m\n\u001b[0m\u001b[1;32m     70\u001b[0m \u001b[0;34m\u001b[0m\u001b[0m\n\u001b[1;32m     71\u001b[0m         \u001b[0;31m# **********************\u001b[0m\u001b[0;34m\u001b[0m\u001b[0;34m\u001b[0m\u001b[0m\n",
      "\u001b[0;32m/home/will/anaconda3/envs/teetool/lib/python2.7/site-packages/multiprocess/pool.pyc\u001b[0m in \u001b[0;36mget\u001b[0;34m(self, timeout)\u001b[0m\n\u001b[1;32m    565\u001b[0m             \u001b[0;32mreturn\u001b[0m \u001b[0mself\u001b[0m\u001b[0;34m.\u001b[0m\u001b[0m_value\u001b[0m\u001b[0;34m\u001b[0m\u001b[0m\n\u001b[1;32m    566\u001b[0m         \u001b[0;32melse\u001b[0m\u001b[0;34m:\u001b[0m\u001b[0;34m\u001b[0m\u001b[0m\n\u001b[0;32m--> 567\u001b[0;31m             \u001b[0;32mraise\u001b[0m \u001b[0mself\u001b[0m\u001b[0;34m.\u001b[0m\u001b[0m_value\u001b[0m\u001b[0;34m\u001b[0m\u001b[0m\n\u001b[0m\u001b[1;32m    568\u001b[0m \u001b[0;34m\u001b[0m\u001b[0m\n\u001b[1;32m    569\u001b[0m     \u001b[0;32mdef\u001b[0m \u001b[0m_set\u001b[0m\u001b[0;34m(\u001b[0m\u001b[0mself\u001b[0m\u001b[0;34m,\u001b[0m \u001b[0mi\u001b[0m\u001b[0;34m,\u001b[0m \u001b[0mobj\u001b[0m\u001b[0;34m)\u001b[0m\u001b[0;34m:\u001b[0m\u001b[0;34m\u001b[0m\u001b[0m\n",
      "\u001b[0;31mIndexError\u001b[0m: index 1 is out of bounds for axis 1 with size 1"
     ]
    }
   ],
   "source": [
    "# plotting iso surface\n",
    "\n",
    "# visuals by mayavi\n",
    "visual = tt.visual_3d.Visual_3d(new_world)\n",
    "# visualise iso surface\n",
    "# visual.plotLogIsoSurface(these_clusters, pcontours=[.99])\n",
    "visual.plotTube(these_clusters)\n",
    "# visualise outline\n",
    "visual.plotOutline()\n",
    "# wait to close\n",
    "visual.show()"
   ]
  },
  {
   "cell_type": "code",
   "execution_count": null,
   "metadata": {
    "collapsed": true
   },
   "outputs": [],
   "source": []
  }
 ],
 "metadata": {
  "kernelspec": {
   "display_name": "Python 2",
   "language": "python",
   "name": "python2"
  },
  "language_info": {
   "codemirror_mode": {
    "name": "ipython",
    "version": 2
   },
   "file_extension": ".py",
   "mimetype": "text/x-python",
   "name": "python",
   "nbconvert_exporter": "python",
   "pygments_lexer": "ipython2",
   "version": "2.7.12"
  }
 },
 "nbformat": 4,
 "nbformat_minor": 1
}
