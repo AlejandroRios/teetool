{
 "cells": [
  {
   "cell_type": "code",
   "execution_count": 1,
   "metadata": {
    "collapsed": false
   },
   "outputs": [],
   "source": [
    "import pandas as pd\n",
    "import numpy as np\n",
    "import teetool as tt\n",
    "import os"
   ]
  },
  {
   "cell_type": "code",
   "execution_count": 2,
   "metadata": {
    "collapsed": true
   },
   "outputs": [],
   "source": [
    "file_trajectories = \"app.csv\"\n",
    "#file_trajectories = \"dep.csv\""
   ]
  },
  {
   "cell_type": "code",
   "execution_count": 3,
   "metadata": {
    "collapsed": true
   },
   "outputs": [],
   "source": [
    "def getFile(fileName):\n",
    "    \"\"\"\n",
    "    downloads file if not yet done so\n",
    "    \"\"\"\n",
    "    \n",
    "    locale_path = \"data/{0}\".format(fileName)\n",
    "    online_path = \"https://www.southampton.ac.uk/~wje1n13/camrocsim/{0}\".format(fileName)\n",
    "    \n",
    "    if not os.path.isfile(locale_path):\n",
    "        !wget $online_path -O $locale_path"
   ]
  },
  {
   "cell_type": "code",
   "execution_count": 4,
   "metadata": {
    "collapsed": false
   },
   "outputs": [],
   "source": [
    "getFile(file_trajectories)"
   ]
  },
  {
   "cell_type": "code",
   "execution_count": 5,
   "metadata": {
    "collapsed": false,
    "scrolled": true
   },
   "outputs": [],
   "source": [
    "# read data\n",
    "df = pd.read_csv(\"data/{0}\".format(file_trajectories))\n",
    "\n",
    "# rename columns\n",
    "df.rename(columns={'EASTINGS_M': 'x [m]',\n",
    "                   'NORTHINGS_M': 'y [m]',\n",
    "                   'ALTITUDE_M': 'z [m]'}, inplace=True)\n",
    "\n",
    "\n",
    "\n"
   ]
  },
  {
   "cell_type": "code",
   "execution_count": 6,
   "metadata": {
    "collapsed": false
   },
   "outputs": [
    {
     "data": {
      "text/html": [
       "<div>\n",
       "<table border=\"1\" class=\"dataframe\">\n",
       "  <thead>\n",
       "    <tr style=\"text-align: right;\">\n",
       "      <th></th>\n",
       "      <th>CLUSTER_ID</th>\n",
       "      <th>TRAJECTORY_ID</th>\n",
       "      <th>y [m]</th>\n",
       "      <th>x [m]</th>\n",
       "      <th>z [m]</th>\n",
       "      <th>x [-]</th>\n",
       "      <th>y [-]</th>\n",
       "      <th>z [-]</th>\n",
       "    </tr>\n",
       "  </thead>\n",
       "  <tbody>\n",
       "    <tr>\n",
       "      <th>0</th>\n",
       "      <td>1</td>\n",
       "      <td>0</td>\n",
       "      <td>338415</td>\n",
       "      <td>268895</td>\n",
       "      <td>956</td>\n",
       "      <td>0.718833</td>\n",
       "      <td>0.986451</td>\n",
       "      <td>0.541792</td>\n",
       "    </tr>\n",
       "    <tr>\n",
       "      <th>1</th>\n",
       "      <td>1</td>\n",
       "      <td>0</td>\n",
       "      <td>337608</td>\n",
       "      <td>268677</td>\n",
       "      <td>947</td>\n",
       "      <td>0.716839</td>\n",
       "      <td>0.979087</td>\n",
       "      <td>0.536380</td>\n",
       "    </tr>\n",
       "    <tr>\n",
       "      <th>2</th>\n",
       "      <td>1</td>\n",
       "      <td>0</td>\n",
       "      <td>336794</td>\n",
       "      <td>268496</td>\n",
       "      <td>938</td>\n",
       "      <td>0.715182</td>\n",
       "      <td>0.971660</td>\n",
       "      <td>0.530968</td>\n",
       "    </tr>\n",
       "    <tr>\n",
       "      <th>3</th>\n",
       "      <td>1</td>\n",
       "      <td>0</td>\n",
       "      <td>335940</td>\n",
       "      <td>268481</td>\n",
       "      <td>929</td>\n",
       "      <td>0.715045</td>\n",
       "      <td>0.963868</td>\n",
       "      <td>0.525556</td>\n",
       "    </tr>\n",
       "    <tr>\n",
       "      <th>4</th>\n",
       "      <td>1</td>\n",
       "      <td>0</td>\n",
       "      <td>335177</td>\n",
       "      <td>268249</td>\n",
       "      <td>929</td>\n",
       "      <td>0.712922</td>\n",
       "      <td>0.956907</td>\n",
       "      <td>0.525556</td>\n",
       "    </tr>\n",
       "  </tbody>\n",
       "</table>\n",
       "</div>"
      ],
      "text/plain": [
       "   CLUSTER_ID  TRAJECTORY_ID   y [m]   x [m]  z [m]     x [-]     y [-]  \\\n",
       "0           1              0  338415  268895    956  0.718833  0.986451   \n",
       "1           1              0  337608  268677    947  0.716839  0.979087   \n",
       "2           1              0  336794  268496    938  0.715182  0.971660   \n",
       "3           1              0  335940  268481    929  0.715045  0.963868   \n",
       "4           1              0  335177  268249    929  0.712922  0.956907   \n",
       "\n",
       "      z [-]  \n",
       "0  0.541792  \n",
       "1  0.536380  \n",
       "2  0.530968  \n",
       "3  0.525556  \n",
       "4  0.525556  "
      ]
     },
     "execution_count": 6,
     "metadata": {},
     "output_type": "execute_result"
    }
   ],
   "source": [
    "# normalise dimensions? reasonable plotting\n",
    "\n",
    "# normalise x y z GLOBALLY (all trajectories)\n",
    "these_cells_input = [\"x [m]\", \"y [m]\", \"z [m]\"]\n",
    "these_cells_output = [\"x [-]\", \"y [-]\", \"z [-]\"]\n",
    "\n",
    "for (i, cell_input) in enumerate(these_cells_input):\n",
    "    cell_output = these_cells_output[i]\n",
    "    df.loc[:,cell_output] = (df[cell_input] - df[cell_input].min()) / ( df[cell_input].max() - df[cell_input].min() )\n",
    "\n",
    "\n",
    "df.head()"
   ]
  },
  {
   "cell_type": "code",
   "execution_count": 7,
   "metadata": {
    "collapsed": true
   },
   "outputs": [],
   "source": [
    "# flick data into arrays\n",
    "\n",
    "cluster_data_list = []\n",
    "\n",
    "for cluster_id in df.CLUSTER_ID.unique():\n",
    "    # pass all clusters\n",
    "    \n",
    "    dfc = df[df[\"CLUSTER_ID\"] == cluster_id]\n",
    "    \n",
    "    cluster_data = []\n",
    "\n",
    "    for trajectory_id in dfc.TRAJECTORY_ID.unique():\n",
    "        # pass all trajectories IN this cluster\n",
    "\n",
    "        # extract values\n",
    "        dft = dfc[dfc[\"TRAJECTORY_ID\"] == trajectory_id]\n",
    "\n",
    "        Yn = np.array([dft[\"x [-]\"].values, dft[\"y [-]\"].values, dft[\"z [-]\"].values]).transpose()\n",
    "        \n",
    "        (npoints, ndim) = Yn.shape\n",
    "        \n",
    "        # assume linearly distributed points (no indication otherwise)\n",
    "        xn = np.linspace(0, 1, npoints)\n",
    "\n",
    "        # add tuple to list\n",
    "        cluster_data.append((xn, Yn))\n",
    "    \n",
    "    cluster_data_list.append(cluster_data)"
   ]
  },
  {
   "cell_type": "code",
   "execution_count": 10,
   "metadata": {
    "collapsed": false,
    "scrolled": false
   },
   "outputs": [
    {
     "name": "stdout",
     "output_type": "stream",
     "text": [
      "*** overview [DFW] ***\n",
      "0 [c 0] [-]\n",
      "1 [c 1] [-]\n",
      "2 [c 2] [-]\n",
      "3 [c 3] [-]\n",
      "4 [c 4] [-]\n",
      "5 [c 5] [-]\n",
      "6 [c 6] [-]\n",
      "*** overview [DFW] ***\n",
      "0 [c 0] [*]\n",
      "1 [c 1] [*]\n",
      "2 [c 2] [*]\n",
      "3 [c 3] [*]\n",
      "4 [c 4] [*]\n",
      "5 [c 5] [*]\n",
      "6 [c 6] [*]\n"
     ]
    }
   ],
   "source": [
    "# start modelling\n",
    "\n",
    "# build world\n",
    "new_world = tt.World(name=\"DFW\", ndim=3, nres=100)\n",
    "\n",
    "for i, cluster_data in enumerate(cluster_data_list[:-1]):\n",
    "    new_world.addCluster(cluster_data, \"c {0}\".format(i))\n",
    "\n",
    "# overview\n",
    "new_world.overview()\n",
    "\n",
    "# settings\n",
    "#settings = {\"model_type\":\"ML\", \"ngaus\":200, \"basis_type\":\"rbf\", \"nbasis\":15}\n",
    "settings = {\"model_type\":\"resampling\", \"ngaus\":100}\n",
    "\n",
    "new_world.buildModel(settings)\n",
    "\n",
    "new_world.overview()  # overview"
   ]
  },
  {
   "cell_type": "code",
   "execution_count": 12,
   "metadata": {
    "collapsed": false
   },
   "outputs": [],
   "source": [
    "# plotting tubes\n",
    "\n",
    "# visuals by mayavi\n",
    "visual = tt.visual_3d.Visual_3d(new_world)\n",
    "# visualise iso surface\n",
    "# visual.plotLogIsoSurface(these_clusters, pcontours=[.99])\n",
    "visual.plotTube(sdwidth=2.0)\n",
    "# visualise outline\n",
    "#visual.plotOutline()\n",
    "# wait to close\n",
    "visual.show()"
   ]
  },
  {
   "cell_type": "code",
   "execution_count": null,
   "metadata": {
    "collapsed": true
   },
   "outputs": [],
   "source": []
  }
 ],
 "metadata": {
  "kernelspec": {
   "display_name": "Python 2",
   "language": "python",
   "name": "python2"
  },
  "language_info": {
   "codemirror_mode": {
    "name": "ipython",
    "version": 2
   },
   "file_extension": ".py",
   "mimetype": "text/x-python",
   "name": "python",
   "nbconvert_exporter": "python",
   "pygments_lexer": "ipython2",
   "version": "2.7.12"
  }
 },
 "nbformat": 4,
 "nbformat_minor": 1
}
