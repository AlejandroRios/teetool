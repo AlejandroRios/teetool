{
 "cells": [
  {
   "cell_type": "code",
   "execution_count": null,
   "metadata": {
    "collapsed": false
   },
   "outputs": [],
   "source": [
    "import teetool as tt\n",
    "import pandas as pd"
   ]
  },
  {
   "cell_type": "code",
   "execution_count": null,
   "metadata": {
    "collapsed": false
   },
   "outputs": [],
   "source": [
    "# create a world and add existing data\n",
    "\n",
    "# new world -- nres defines default resolution of tube/logp grid generation\n",
    "world = tt.World(name=\"crs31\", ndim=3)\n",
    "\n",
    "list_filename = (\"1_standard_launch\", \"2_Southern_wind\", \"3_parachute_failure\", \"4_thrust_variation\")\n",
    "\n",
    "for filename in list_filename:\n",
    "    # extract data from pickle\n",
    "    cluster_data = pd.read_pickle(\"temp/{0}.pickle\".format(filename));\n",
    "    \n",
    "    # add data to the world\n",
    "    world.addCluster(cluster_data, filename)"
   ]
  },
  {
   "cell_type": "code",
   "execution_count": null,
   "metadata": {
    "collapsed": false,
    "scrolled": false
   },
   "outputs": [],
   "source": [
    "world.buildModel(settings={\"model_type\":\"resampling\", \"ngaus\":100})\n",
    "world.overview()"
   ]
  },
  {
   "cell_type": "code",
   "execution_count": null,
   "metadata": {
    "collapsed": false
   },
   "outputs": [],
   "source": [
    "# compare statistics for different resolutions\n",
    "\n",
    "print(\"resolution 100\")\n",
    "world.getTubeStats(sdwidth=1, resolution=100)\n",
    "\n",
    "print(\"resolution 50\")\n",
    "world.getTubeStats(sdwidth=1, resolution=50)\n",
    "\n",
    "print(\"resolution 20\")\n",
    "world.getTubeStats(sdwidth=1, resolution=20)"
   ]
  },
  {
   "cell_type": "code",
   "execution_count": null,
   "metadata": {
    "collapsed": false
   },
   "outputs": [],
   "source": [
    "# visualise 2d -- trend & diff(erence)\n",
    "\n",
    "% matplotlib inline\n",
    "\n",
    "for kind in [\"trend\"]:\n",
    "    for i, name in enumerate(list_filename[:]):\n",
    "        for z in range(0, 3000, 50):\n",
    "            visual = tt.visual_2d.Visual_2d(world, figsize=(5, 5), dpi=600, tight_layout=True)\n",
    "            if kind == \"trend\":\n",
    "                visual.plotTube(list_icluster=[i], z=z, resolution=[100, 100], colour=(1.0, 0.3, 0.3))\n",
    "                save_as = \"{0}_{1}\".format(name, z)\n",
    "            elif kind == \"diff\":\n",
    "                visual.plotTubeDifference([0, i], z=z, resolution=[100, 100])\n",
    "                save_as = \"diff_0_{0}_{1}\".format(i, z)\n",
    "            # plot mean\n",
    "            visual.plotMean(list_icluster=[i], colour=(0.0, 0.0, 0.0), linestyle='--')\n",
    "            # set labels\n",
    "            visual._ax.set_xlabel(\"Easting [m]\")\n",
    "            visual._ax.set_ylabel(\"Northing [m]\")\n",
    "            visual._ax.set_xlim([-1000, 1000])\n",
    "            visual._ax.set_ylim([0, 3000])\n",
    "            visual._ax.set_title(\"\")\n",
    "            # equal scale\n",
    "            visual._ax.set_aspect('equal', adjustable='box')\n",
    "            # store image\n",
    "            visual.save(add=save_as)\n",
    "            # close figure\n",
    "            visual.close()"
   ]
  },
  {
   "cell_type": "code",
   "execution_count": null,
   "metadata": {
    "collapsed": false
   },
   "outputs": [],
   "source": [
    "% matplotlib inline\n",
    "\n",
    "for kind in [\"diff\"]:\n",
    "    for i, name in enumerate(list_filename[:]):\n",
    "        for z in range(0, 3000, 50):\n",
    "            visual = tt.visual_2d.Visual_2d(world, figsize=(5, 5), dpi=600, tight_layout=True)\n",
    "            if kind == \"trend\":\n",
    "                visual.plotTube(list_icluster=[i], z=z, resolution=[100, 100], colour=(1.0, 0.3, 0.3))\n",
    "                save_as = \"{0}_{1}\".format(name, z)\n",
    "            elif kind == \"diff\":\n",
    "                visual.plotTubeDifference([0, i], z=z, resolution=[100, 100])\n",
    "                save_as = \"diff_0_{0}_{1}\".format(i, z)\n",
    "            # plot mean\n",
    "            visual.plotMean(list_icluster=[0, i], colour=(0.0, 0.0, 0.0), linestyle='--')\n",
    "            # set labels\n",
    "            visual._ax.set_xlabel(\"Easting [m]\")\n",
    "            visual._ax.set_ylabel(\"Northing [m]\")\n",
    "            visual._ax.set_xlim([-1000, 1000])\n",
    "            visual._ax.set_ylim([0, 3000])\n",
    "            visual._ax.set_title(\"\")\n",
    "            # equal scale\n",
    "            visual._ax.set_aspect('equal', adjustable='box')\n",
    "            # store image\n",
    "            visual.save(add=save_as)\n",
    "            # close figure\n",
    "            visual.close()"
   ]
  },
  {
   "cell_type": "code",
   "execution_count": null,
   "metadata": {
    "collapsed": false
   },
   "outputs": [],
   "source": [
    "# visualise 3d -- 50 trajectories and trend\n",
    "\n",
    "for kind in [\"trend\", \"diff\"]:\n",
    "    for i, name in enumerate(list_filename[:]):\n",
    "        visual = tt.visual_3d.Visual_3d(world, size=(1200, 900))\n",
    "        if kind == \"trend\":\n",
    "            # visualise trajectories\n",
    "            visual.plotTrajectories([i], ntraj=50, colour=(0.0,0.0,0.0))\n",
    "            # visualise tube\n",
    "            visual.plotTube([i], alpha=0.5, resolution=20, colour=(1.0, 0.3, 0.3))\n",
    "            # save as string\n",
    "            save_as = \"{0}\".format(name)\n",
    "        if kind == \"diff\":\n",
    "            # visualise difference\n",
    "            visual.plotTubeDifference([0, i], alpha=1.0, resolution=20)\n",
    "            # save as string\n",
    "            save_as = \"diff_0_{0}\".format(i)\n",
    "        \n",
    "        # 1000m = 1km = 1 km^3 is one grid block\n",
    "        visual.plotGrid(resolution=500,\n",
    "                        outline=[-1000, 1000, 0, 3000, 0, 3000])\n",
    "        # labels and ticks\n",
    "        visual.setLabels(\"Easting [m]\", \"Northing [m]\", \"Altitude [m]\")\n",
    "        visual.setAxesFormat(\"%.0f\")  # no ticks\n",
    "        \n",
    "        # modify azimuth\n",
    "        for azi in range(0, 100, 5):\n",
    "            # change view\n",
    "            visual.setView(azimuth=azi, elevation=87, focalpoint=[0, 1400, 1300], distance=9200)\n",
    "            # store image\n",
    "            save_as_azi = \"{0}_{1}\".format(save_as, azi)\n",
    "            visual.save(add=save_as_azi)\n",
    "        \n",
    "\n",
    "visual.close() # use visual.show() to pause figures at end and not auto-close"
   ]
  }
 ],
 "metadata": {
  "kernelspec": {
   "display_name": "Python [default]",
   "language": "python",
   "name": "python2"
  },
  "language_info": {
   "codemirror_mode": {
    "name": "ipython",
    "version": 2
   },
   "file_extension": ".py",
   "mimetype": "text/x-python",
   "name": "python",
   "nbconvert_exporter": "python",
   "pygments_lexer": "ipython2",
   "version": "2.7.12"
  }
 },
 "nbformat": 4,
 "nbformat_minor": 1
}
