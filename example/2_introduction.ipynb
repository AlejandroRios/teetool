{
 "cells": [
  {
   "cell_type": "code",
   "execution_count": 1,
   "metadata": {
    "collapsed": false
   },
   "outputs": [
    {
     "name": "stderr",
     "output_type": "stream",
     "text": [
      "/home/will/anaconda3/envs/tt/lib/python2.7/site-packages/matplotlib/font_manager.py:273: UserWarning: Matplotlib is building the font cache using fc-list. This may take a moment.\n",
      "  warnings.warn('Matplotlib is building the font cache using fc-list. This may take a moment.')\n"
     ]
    }
   ],
   "source": [
    "# import matplotlib.pyplot as plt\n",
    "import teetool as tt\n",
    "import pandas as pd"
   ]
  },
  {
   "cell_type": "code",
   "execution_count": 3,
   "metadata": {
    "collapsed": false
   },
   "outputs": [],
   "source": [
    "# create a world and add existing data\n",
    "\n",
    "# new world -- nres defines default resolution of tube/logp grid generation\n",
    "world = tt.World(name=\"crs31\", ndim=3)\n",
    "\n",
    "filename = (\"1_standard_launch\")\n",
    "\n",
    "# extract data from pickle\n",
    "cluster_data = pd.read_pickle(\"temp/{0}.pickle\".format(filename));\n",
    "\n",
    "# add data to the world\n",
    "world.addCluster(cluster_data, filename)"
   ]
  },
  {
   "cell_type": "code",
   "execution_count": 4,
   "metadata": {
    "collapsed": false
   },
   "outputs": [
    {
     "name": "stdout",
     "output_type": "stream",
     "text": [
      "*** overview [crs31] ***\n",
      "0 [1_standard_launch] [*]\n"
     ]
    }
   ],
   "source": [
    "world.buildModel(settings={\"model_type\":\"resampling\", \"ngaus\":100})\n",
    "world.overview()"
   ]
  },
  {
   "cell_type": "code",
   "execution_count": 11,
   "metadata": {
    "collapsed": false
   },
   "outputs": [],
   "source": [
    "# visualise 3d -- nominal\n",
    "\n",
    "for numtraj in [0, 1, 50, 500]:\n",
    "\n",
    "    i = 0\n",
    "    name = list_filename[0]\n",
    "\n",
    "    visual = tt.visual_3d.Visual_3d(world, size=(1200, 900))\n",
    "\n",
    "    # visualise trajectories\n",
    "    visual.plotTrajectories([i], ntraj=numtraj, colour=(0.0,0.0,0.8))\n",
    "    if numtraj == 0:\n",
    "        # visualise tube\n",
    "        visual.plotTube([i], alpha=1.0, resolution=10, colour=(1.0, 0.3, 0.3))\n",
    "    # save as string\n",
    "    save_as = \"{0}\".format(name)\n",
    "\n",
    "\n",
    "    # 1000m = 1km = 1 km^3 is one grid block\n",
    "    visual.plotGrid(resolution=500,\n",
    "                    outline=[-1000, 1000, 0, 3000, 0, 3000])\n",
    "    # labels and ticks\n",
    "    visual.setLabels(\"Easting [m]\", \"Northing [m]\", \"Altitude [m]\")\n",
    "    visual.setAxesFormat(\"%.0f\")  # no ticks\n",
    "\n",
    "    # modify azimuth\n",
    "    azi = 10\n",
    "\n",
    "    # change view\n",
    "    visual.setView(azimuth=azi, elevation=87, focalpoint=[0, 1400, 1300], distance=9200)\n",
    "    \n",
    "    # store image\n",
    "    save_as_azi = \"{0}_{1}\".format(numtraj)\n",
    "    visual.save(add=save_as_azi)\n",
    "\n",
    "#visual.show()\n",
    "visual.close() # use visual.show() to pause figures at end and not auto-close"
   ]
  }
 ],
 "metadata": {
  "anaconda-cloud": {},
  "kernelspec": {
   "display_name": "Python [conda env:tt]",
   "language": "python",
   "name": "conda-env-tt-py"
  },
  "language_info": {
   "codemirror_mode": {
    "name": "ipython",
    "version": 2
   },
   "file_extension": ".py",
   "mimetype": "text/x-python",
   "name": "python",
   "nbconvert_exporter": "python",
   "pygments_lexer": "ipython2",
   "version": "2.7.12"
  }
 },
 "nbformat": 4,
 "nbformat_minor": 2
}
